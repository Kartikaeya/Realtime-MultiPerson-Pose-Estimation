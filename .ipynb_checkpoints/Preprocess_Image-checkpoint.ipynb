{
 "cells": [
  {
   "cell_type": "code",
   "execution_count": 12,
   "metadata": {},
   "outputs": [],
   "source": [
    "import numpy as np\n",
    "import torch\n",
    "import cv2\n",
    "from matplotlib import pyplot as plt"
   ]
  },
  {
   "cell_type": "code",
   "execution_count": 17,
   "metadata": {},
   "outputs": [],
   "source": [
    "def crop(img):\n",
    "    img_shape = img.shape\n",
    "    img_size_min = np.min(img_shape[0:2])\n",
    "    img_size_max = np.max(img_shape[0:2])\n",
    "    \n",
    "    img_scale = float(368)/img_size_min\n",
    "    img = cv2.resize(img , None, fx = img_scale, fy = img_scale)\n",
    "    \n",
    "    h, w, c = img.shape\n",
    "    new_h = int(np.ceil(float(h)/8)) * 8\n",
    "    new_w = int(np.ceil(float(w)/8)) * 8\n",
    "    \n",
    "    img_cropped = np.zeros([new_h, new_w, c], dtype = img.dtype)\n",
    "    img_cropped[0:h, 0:w , :] = img\n",
    "    return img_cropped\n",
    "def preprocess_image_for_inference(img):\n",
    "    desired_size = 368 # for some unknown reason they chose to resize the smaller dimension of the image to 368\n",
    "#     print(\"input shape of the image : \\t\", img.shape)\n",
    "\n",
    "    # now crop the image to a certain factor(in this case 8)\n",
    "    img_cropped = crop(img)\n",
    "#     print(\"shape of the cropped image : \\t\", img_cropped.shape)\n",
    "\n",
    "    # now some more preprocessing\n",
    "    img_cropped = img_cropped.astype(np.float32)\n",
    "    img_cropped = img_cropped / 256. - 0.5\n",
    "    img_cropped = img_cropped.transpose((2, 0, 1)).astype(np.float32)\n",
    "    \n",
    "    img_cropped = np.expand_dims(img_cropped , 0)\n",
    "#     print(\"shape of the image after all preprocessing: \\t\", img_cropped.shape)\n",
    "    # now convert the image to tensor and push it to the gpu\n",
    "    img_cropped = torch.from_numpy(img_cropped).cuda().float()\n",
    "    return img_cropped"
   ]
  },
  {
   "cell_type": "code",
   "execution_count": 16,
   "metadata": {},
   "outputs": [
    {
     "name": "stdout",
     "output_type": "stream",
     "text": [
      "input shape of the image : \t (674, 712, 3)\n",
      "shape of the cropped image : \t (368, 392, 3)\n",
      "shape of the image after all preprocessing: \t (1, 3, 368, 392)\n"
     ]
    }
   ],
   "source": [
    "test_preprocess = np.random.randn(674, 712, 3)\n",
    "# print(test_preprocess.shape)\n",
    "preprocess_image_for_inference(test_preprocess)"
   ]
  },
  {
   "cell_type": "code",
   "execution_count": null,
   "metadata": {},
   "outputs": [],
   "source": []
  }
 ],
 "metadata": {
  "kernelspec": {
   "display_name": "Python 3",
   "language": "python",
   "name": "python3"
  },
  "language_info": {
   "codemirror_mode": {
    "name": "ipython",
    "version": 3
   },
   "file_extension": ".py",
   "mimetype": "text/x-python",
   "name": "python",
   "nbconvert_exporter": "python",
   "pygments_lexer": "ipython3",
   "version": "3.7.3"
  }
 },
 "nbformat": 4,
 "nbformat_minor": 2
}
