{
 "cells": [
  {
   "cell_type": "code",
   "execution_count": 8,
   "metadata": {},
   "outputs": [],
   "source": [
    "import numpy as np\n",
    "import torch\n",
    "import cv2\n",
    "from matplotlib import pyplot as plt"
   ]
  },
  {
   "cell_type": "code",
   "execution_count": 9,
   "metadata": {},
   "outputs": [],
   "source": [
    "def crop(img, scale):\n",
    "    img_shape = img.shape\n",
    "    img_size_min = np.min(img_shape[0:2])\n",
    "    img_size_max = np.max(img_shape[0:2])\n",
    "    \n",
    "    img_scale = (float(368)/img_size_min) * scale\n",
    "    img = cv2.resize(img , None, fx = img_scale, fy = img_scale)\n",
    "    \n",
    "    h, w, c = img.shape\n",
    "    new_h = int(np.ceil(float(h)/8)) * 8\n",
    "    new_w = int(np.ceil(float(w)/8)) * 8\n",
    "    \n",
    "    img_cropped = np.zeros([new_h, new_w, c], dtype = img.dtype)\n",
    "    img_cropped[0:h, 0:w , :] = img\n",
    "    return img_cropped\n",
    "def preprocess_image_for_inference(img, scale):\n",
    "    desired_size = 368 # for some unknown reason they chose to resize the smaller dimension of the image to 368\n",
    "\n",
    "    # now crop the image to a certain factor(in this case 8)\n",
    "    img_cropped = crop(img, scale)\n",
    "\n",
    "\n",
    "    # now some more preprocessing\n",
    "    img_cropped = img_cropped.astype(np.float32)\n",
    "    img_cropped = img_cropped / 256. - 0.5\n",
    "    img_cropped = img_cropped.transpose((2, 0, 1)).astype(np.float32)\n",
    "    \n",
    "    img_cropped = np.expand_dims(img_cropped , 0)\n",
    "\n",
    "    # now convert the image to tensor and push it to the gpu\n",
    "    img_cropped = torch.from_numpy(img_cropped).cuda().float()\n",
    "    return img_cropped"
   ]
  },
  {
   "cell_type": "code",
   "execution_count": 11,
   "metadata": {},
   "outputs": [
    {
     "data": {
      "text/plain": [
       "tensor([[[[-0.4980, -0.4984, -0.4997,  ..., -0.5000, -0.5000, -0.5000],\n",
       "          [-0.4973, -0.5003, -0.5015,  ..., -0.5000, -0.5000, -0.5000],\n",
       "          [-0.5017, -0.4994, -0.4999,  ..., -0.5000, -0.5000, -0.5000],\n",
       "          ...,\n",
       "          [-0.5023, -0.4955, -0.5009,  ..., -0.5000, -0.5000, -0.5000],\n",
       "          [-0.5008, -0.4991, -0.4977,  ..., -0.5000, -0.5000, -0.5000],\n",
       "          [-0.5020, -0.5032, -0.5049,  ..., -0.5000, -0.5000, -0.5000]],\n",
       "\n",
       "         [[-0.5057, -0.5013, -0.5002,  ..., -0.5000, -0.5000, -0.5000],\n",
       "          [-0.4997, -0.4984, -0.5006,  ..., -0.5000, -0.5000, -0.5000],\n",
       "          [-0.5054, -0.5036, -0.4997,  ..., -0.5000, -0.5000, -0.5000],\n",
       "          ...,\n",
       "          [-0.5030, -0.4979, -0.4997,  ..., -0.5000, -0.5000, -0.5000],\n",
       "          [-0.5022, -0.4927, -0.4950,  ..., -0.5000, -0.5000, -0.5000],\n",
       "          [-0.4969, -0.4920, -0.5019,  ..., -0.5000, -0.5000, -0.5000]],\n",
       "\n",
       "         [[-0.5014, -0.5048, -0.4986,  ..., -0.5000, -0.5000, -0.5000],\n",
       "          [-0.5035, -0.5022, -0.4967,  ..., -0.5000, -0.5000, -0.5000],\n",
       "          [-0.4971, -0.4947, -0.4977,  ..., -0.5000, -0.5000, -0.5000],\n",
       "          ...,\n",
       "          [-0.5023, -0.4966, -0.4967,  ..., -0.5000, -0.5000, -0.5000],\n",
       "          [-0.5022, -0.4959, -0.4964,  ..., -0.5000, -0.5000, -0.5000],\n",
       "          [-0.5028, -0.4997, -0.4983,  ..., -0.5000, -0.5000, -0.5000]]]],\n",
       "       device='cuda:0')"
      ]
     },
     "execution_count": 11,
     "metadata": {},
     "output_type": "execute_result"
    }
   ],
   "source": [
    "test_preprocess = np.random.randn(674, 712, 3)\n",
    "# print(test_preprocess.shape)\n",
    "preprocess_image_for_inference(test_preprocess, scale = 2)"
   ]
  },
  {
   "cell_type": "code",
   "execution_count": null,
   "metadata": {},
   "outputs": [],
   "source": []
  }
 ],
 "metadata": {
  "kernelspec": {
   "display_name": "Python 3",
   "language": "python",
   "name": "python3"
  },
  "language_info": {
   "codemirror_mode": {
    "name": "ipython",
    "version": 3
   },
   "file_extension": ".py",
   "mimetype": "text/x-python",
   "name": "python",
   "nbconvert_exporter": "python",
   "pygments_lexer": "ipython3",
   "version": "3.7.3"
  }
 },
 "nbformat": 4,
 "nbformat_minor": 2
}
